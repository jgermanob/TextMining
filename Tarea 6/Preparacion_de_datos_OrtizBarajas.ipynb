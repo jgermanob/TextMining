{
 "cells": [
  {
   "cell_type": "markdown",
   "metadata": {},
   "source": [
    "# Preparación de datos"
   ]
  },
  {
   "cell_type": "markdown",
   "metadata": {},
   "source": [
    "###### Jesús Germán Ortiz Barajas"
   ]
  },
  {
   "cell_type": "markdown",
   "metadata": {},
   "source": [
    "### Bibliotecas necesarias"
   ]
  },
  {
   "cell_type": "code",
   "execution_count": 1,
   "metadata": {},
   "outputs": [],
   "source": [
    "import pandas as pd\n",
    "import numpy as np\n",
    "from sklearn.model_selection import train_test_split\n",
    "from sklearn.feature_extraction.text import CountVectorizer\n",
    "from nltk.tokenize import RegexpTokenizer\n",
    "from nltk.corpus import stopwords\n",
    "from nltk import FreqDist"
   ]
  },
  {
   "cell_type": "markdown",
   "metadata": {},
   "source": [
    "### Lectura y visualización de archivos"
   ]
  },
  {
   "cell_type": "code",
   "execution_count": 2,
   "metadata": {},
   "outputs": [
    {
     "data": {
      "text/html": [
       "<div>\n",
       "<style scoped>\n",
       "    .dataframe tbody tr th:only-of-type {\n",
       "        vertical-align: middle;\n",
       "    }\n",
       "\n",
       "    .dataframe tbody tr th {\n",
       "        vertical-align: top;\n",
       "    }\n",
       "\n",
       "    .dataframe thead th {\n",
       "        text-align: right;\n",
       "    }\n",
       "</style>\n",
       "<table border=\"1\" class=\"dataframe\">\n",
       "  <thead>\n",
       "    <tr style=\"text-align: right;\">\n",
       "      <th></th>\n",
       "      <th>text</th>\n",
       "      <th>target</th>\n",
       "    </tr>\n",
       "  </thead>\n",
       "  <tbody>\n",
       "    <tr>\n",
       "      <th>0</th>\n",
       "      <td>Go until jurong point, crazy.. Available only ...</td>\n",
       "      <td>0</td>\n",
       "    </tr>\n",
       "    <tr>\n",
       "      <th>1</th>\n",
       "      <td>Ok lar... Joking wif u oni...</td>\n",
       "      <td>0</td>\n",
       "    </tr>\n",
       "    <tr>\n",
       "      <th>2</th>\n",
       "      <td>Free entry in 2 a wkly comp to win FA Cup fina...</td>\n",
       "      <td>1</td>\n",
       "    </tr>\n",
       "    <tr>\n",
       "      <th>3</th>\n",
       "      <td>U dun say so early hor... U c already then say...</td>\n",
       "      <td>0</td>\n",
       "    </tr>\n",
       "    <tr>\n",
       "      <th>4</th>\n",
       "      <td>Nah I don't think he goes to usf, he lives aro...</td>\n",
       "      <td>0</td>\n",
       "    </tr>\n",
       "    <tr>\n",
       "      <th>5</th>\n",
       "      <td>FreeMsg Hey there darling it's been 3 week's n...</td>\n",
       "      <td>1</td>\n",
       "    </tr>\n",
       "    <tr>\n",
       "      <th>6</th>\n",
       "      <td>Even my brother is not like to speak with me. ...</td>\n",
       "      <td>0</td>\n",
       "    </tr>\n",
       "    <tr>\n",
       "      <th>7</th>\n",
       "      <td>As per your request 'Melle Melle (Oru Minnamin...</td>\n",
       "      <td>0</td>\n",
       "    </tr>\n",
       "    <tr>\n",
       "      <th>8</th>\n",
       "      <td>WINNER!! As a valued network customer you have...</td>\n",
       "      <td>1</td>\n",
       "    </tr>\n",
       "    <tr>\n",
       "      <th>9</th>\n",
       "      <td>Had your mobile 11 months or more? U R entitle...</td>\n",
       "      <td>1</td>\n",
       "    </tr>\n",
       "  </tbody>\n",
       "</table>\n",
       "</div>"
      ],
      "text/plain": [
       "                                                text  target\n",
       "0  Go until jurong point, crazy.. Available only ...       0\n",
       "1                      Ok lar... Joking wif u oni...       0\n",
       "2  Free entry in 2 a wkly comp to win FA Cup fina...       1\n",
       "3  U dun say so early hor... U c already then say...       0\n",
       "4  Nah I don't think he goes to usf, he lives aro...       0\n",
       "5  FreeMsg Hey there darling it's been 3 week's n...       1\n",
       "6  Even my brother is not like to speak with me. ...       0\n",
       "7  As per your request 'Melle Melle (Oru Minnamin...       0\n",
       "8  WINNER!! As a valued network customer you have...       1\n",
       "9  Had your mobile 11 months or more? U R entitle...       1"
      ]
     },
     "execution_count": 2,
     "metadata": {},
     "output_type": "execute_result"
    }
   ],
   "source": [
    "spam_data = pd.read_csv('spam.csv')\n",
    "\n",
    "spam_data['target'] = np.where(spam_data['target']=='spam',1,0)\n",
    "spam_data.head(10)"
   ]
  },
  {
   "cell_type": "markdown",
   "metadata": {},
   "source": [
    "# División de muestras en entrenamiento (train) y prueba (test)"
   ]
  },
  {
   "cell_type": "code",
   "execution_count": 3,
   "metadata": {},
   "outputs": [
    {
     "name": "stdout",
     "output_type": "stream",
     "text": [
      "4179\n"
     ]
    }
   ],
   "source": [
    "X_train, X_test, y_train, y_test = train_test_split(spam_data['text'], spam_data['target'], random_state=0)\n",
    "print(len(X_train))"
   ]
  },
  {
   "cell_type": "markdown",
   "metadata": {},
   "source": [
    "### Pregunta 1\n",
    "\n",
    "Ajustar los datos de entrenamiento `X_train` utilizando un `count_vectorizer` con parámetros predeterminados.\n",
    "\n",
    "¿Cuál es el token más largo en el vocabulario?\n",
    "\n",
    "*Esta función debería devolver una cadena.*"
   ]
  },
  {
   "cell_type": "code",
   "execution_count": 4,
   "metadata": {},
   "outputs": [
    {
     "data": {
      "text/plain": [
       "'com1win150ppmx3age16subscription'"
      ]
     },
     "execution_count": 4,
     "metadata": {},
     "output_type": "execute_result"
    }
   ],
   "source": [
    "def respuesta_uno (data):\n",
    "    # Creación y ajuste del vectorizador #\n",
    "    vectorizer = CountVectorizer()\n",
    "    vectorizer.fit_transform(data)\n",
    "    \n",
    "    # Obtención del token mas largo del vocabulario #\n",
    "    vocab = vectorizer.get_feature_names()\n",
    "    longest_token = max(vocab, key=len)\n",
    "    \n",
    "    return longest_token\n",
    "\n",
    "respuesta_uno(X_train)"
   ]
  },
  {
   "cell_type": "markdown",
   "metadata": {},
   "source": [
    "### Pregunta 2\n",
    "\n",
    "¿Cuál es el número promedio de caracteres por documento para los documentos no spam y spam?\n",
    "\n",
    "*Esta función debe devolver una tupla (promedio de # caracteres no es spam, promedio # caracteres spam).*"
   ]
  },
  {
   "cell_type": "code",
   "execution_count": 5,
   "metadata": {},
   "outputs": [],
   "source": [
    "\"\"\"\n",
    "Función que devuelve una lista con el\n",
    "numero de caracteres por cada texto de\n",
    "la lista que recibe como entrada\n",
    "\"\"\"\n",
    "def count_char(text_list):\n",
    "    char_counter = []\n",
    "    for text in text_list:\n",
    "        char_counter.append(len(text))\n",
    "    return char_counter            "
   ]
  },
  {
   "cell_type": "code",
   "execution_count": 6,
   "metadata": {},
   "outputs": [
    {
     "data": {
      "text/plain": [
       "(71.02362694300518, 138.8661311914324)"
      ]
     },
     "execution_count": 6,
     "metadata": {},
     "output_type": "execute_result"
    }
   ],
   "source": [
    "def respuesta_dos(df):\n",
    "    # Filtrado el dataframe #\n",
    "    df_spam = df[(df.target == 1)] \n",
    "    df_no_spam = df[(df.target == 0)]\n",
    "    \n",
    "    # Conteo de caracteres para textos de spam y no spam #\n",
    "    spam_counter = count_char(df_spam.text)\n",
    "    no_spam_counter = count_char(df_no_spam.text)\n",
    "    \n",
    "    # Obtención de promedios #\n",
    "    spam_average = sum(spam_counter)/len(df_spam.index)\n",
    "    no_spam_average = sum(no_spam_counter)/len(df_no_spam.index)\n",
    "    \n",
    "    return (no_spam_average, spam_average)\n",
    "\n",
    "respuesta_dos(spam_data)"
   ]
  },
  {
   "cell_type": "markdown",
   "metadata": {},
   "source": [
    "### Pregunta 3\n",
    "\n",
    "¿Cuál es el número promedio de dígitos por documento para los documentos no spam y spam?\n",
    "\n",
    "*Esta función debe devolver una tupla (promedio de # dígitos no es spam, promedio # dígitos spam).*"
   ]
  },
  {
   "cell_type": "code",
   "execution_count": 7,
   "metadata": {},
   "outputs": [],
   "source": [
    "\"\"\"\n",
    "Función que devuelve una lista con el\n",
    "numero de caracteres por cada texto de\n",
    "la lista que recibe como entrada\n",
    "\"\"\"\n",
    "def digit_counter(text_list):\n",
    "    digit_tokenizer = RegexpTokenizer(r'[0-9]')\n",
    "    counter = []\n",
    "    for text in text_list:\n",
    "        tokens = digit_tokenizer.tokenize(text)\n",
    "        counter.append(len(tokens))\n",
    "    return counter"
   ]
  },
  {
   "cell_type": "code",
   "execution_count": 8,
   "metadata": {},
   "outputs": [
    {
     "data": {
      "text/plain": [
       "(0.2992746113989637, 15.759036144578314)"
      ]
     },
     "execution_count": 8,
     "metadata": {},
     "output_type": "execute_result"
    }
   ],
   "source": [
    "def respuesta_tres(df):\n",
    "    # Filtrado el dataframe #\n",
    "    df_spam = df[(df.target == 1)] \n",
    "    df_no_spam = df[(df.target == 0)]\n",
    "    \n",
    "    # Conteo de digitos #\n",
    "    spam_digit_counter = digit_counter(df_spam.text)\n",
    "    no_spam_digit_counter = digit_counter(df_no_spam.text)\n",
    "    \n",
    "    # Obtención de promedios #\n",
    "    spam_average = sum(spam_digit_counter)/len(df_spam.index)\n",
    "    no_spam_average = sum(no_spam_digit_counter)/len(df_no_spam.index)\n",
    "    \n",
    "    return (no_spam_average, spam_average)\n",
    "respuesta_tres(spam_data)"
   ]
  },
  {
   "cell_type": "markdown",
   "metadata": {},
   "source": [
    "### Pregunta 4\n",
    "\n",
    "¿Cuál es el número promedio de caracteres que no son palabras (cualquier cosa que no sea una letra, un dígito o un guión bajo) por documento para los documentos que no son spam y spam?\n",
    "\n",
    "*Sugerencia: utilice las clases de caracteres `\\ w` y` \\ W`*\n",
    "\n",
    "*Esta función debe devolver una tupla (promedio de # caracteres que no son palabras, no spam, promedio de # caracteres que no son palabras, spam).*"
   ]
  },
  {
   "cell_type": "code",
   "execution_count": 9,
   "metadata": {},
   "outputs": [],
   "source": [
    "\"\"\"\n",
    "Función que devuelve una lista con el\n",
    "numero de caracteres que no son letras, digitos o guión bajo \n",
    "por cada texto de la lista que recibe como entrada\n",
    "\"\"\"\n",
    "def special_char_counter(text_list):\n",
    "    special_tokenizer = RegexpTokenizer(r'\\W')\n",
    "    special_counter = []\n",
    "    for text in text_list:\n",
    "        tokens = special_tokenizer.tokenize(text)\n",
    "        special_counter.append(len(tokens))\n",
    "    return special_counter"
   ]
  },
  {
   "cell_type": "code",
   "execution_count": 10,
   "metadata": {},
   "outputs": [
    {
     "data": {
      "text/plain": [
       "(17.29181347150259, 29.041499330655956)"
      ]
     },
     "execution_count": 10,
     "metadata": {},
     "output_type": "execute_result"
    }
   ],
   "source": [
    "def pregunta_cuatro(df):\n",
    "    # Filtrado el dataframe #\n",
    "    df_spam = df[(df.target == 1)] \n",
    "    df_no_spam = df[(df.target == 0)]\n",
    "    \n",
    "    # Conteo de caracteres especiales para textos de spam y no spam #\n",
    "    spam_counter = special_char_counter(df_spam.text)\n",
    "    no_spam_counter = special_char_counter(df_no_spam.text)\n",
    "    \n",
    "    # Obtención de promedios #\n",
    "    spam_average = sum(spam_counter)/len(df_spam.index)\n",
    "    no_spam_average = sum(no_spam_counter)/len(df_no_spam.index)\n",
    "    \n",
    "    return (no_spam_average, spam_average)\n",
    "pregunta_cuatro(spam_data)"
   ]
  },
  {
   "cell_type": "markdown",
   "metadata": {},
   "source": [
    "### Pregunta 5\n",
    "\n",
    "¿Cuál es el tamaño del vocabulario en `X_train` y `X_test`, primero utilizando la función `fit_transform` en ambos (train y test), luego utilizando `fit_transform` sobre el train y solo `transform` en el test\n",
    "\n",
    "\n",
    "\n",
    "*Esta función debe devolver dos tuplas una con `fit_transform` y la otra con `transform` (vocabulario en `X_train`, vocabulario en `X_test`), (vocabulario en `X_train`, vocabulario en `X_test`).*.*"
   ]
  },
  {
   "cell_type": "code",
   "execution_count": 11,
   "metadata": {},
   "outputs": [
    {
     "data": {
      "text/plain": [
       "((7354, 4170), (7354, 7354))"
      ]
     },
     "execution_count": 11,
     "metadata": {},
     "output_type": "execute_result"
    }
   ],
   "source": [
    "def respuesta_cinco(x_train, x_test):\n",
    "    train_test_vectorizer = CountVectorizer()\n",
    "    train_vectorizer = CountVectorizer()\n",
    "    \n",
    "    # Aplicando fit_transform en x_train y x_test #\n",
    "    train_test_vectorizer.fit_transform(x_train)\n",
    "    train_vocab_size = len(train_test_vectorizer.vocabulary_)\n",
    "    train_test_vectorizer.fit_transform(x_test)\n",
    "    test_vocab_size = len(train_test_vectorizer.vocabulary_)\n",
    "    train_test_result = (train_vocab_size, test_vocab_size)\n",
    "    \n",
    "    # Aplicando fit_transform en x_train y transform en x_test #\n",
    "    train_vectorizer.fit_transform(x_train)\n",
    "    train_vocab_size = len(train_vectorizer.get_feature_names())\n",
    "    train_vectorizer.transform(x_test)\n",
    "    test_vocab_size = len(train_vectorizer.vocabulary_)\n",
    "    train_result = (train_vocab_size, test_vocab_size)\n",
    "    return train_test_result, train_result\n",
    "\n",
    "respuesta_cinco(X_train, X_test)"
   ]
  },
  {
   "cell_type": "markdown",
   "metadata": {},
   "source": [
    "### Pregunta 6\n",
    "\n",
    "¿Cuales son las 10 palabras mas frecuentes (sin tener en cuenta *Stopwords*) en los documentos que no son spam y spam?\n",
    "\n",
    "\n",
    "*Esta función debe devolver una tupla (palabras mas frecuentes, no spam, palabras mas frecuentes, spam).*"
   ]
  },
  {
   "cell_type": "code",
   "execution_count": 12,
   "metadata": {},
   "outputs": [],
   "source": [
    "# Lista de stopwords en ingles #\n",
    "sw = list(stopwords.words('english'))"
   ]
  },
  {
   "cell_type": "code",
   "execution_count": 13,
   "metadata": {},
   "outputs": [],
   "source": [
    "\"\"\"\n",
    "Función para obtener los textos de una lista dada\n",
    "si el parámetro stopwords_option = False solo se toman\n",
    "palabras que no se encuentren en la lista de stopwords,\n",
    "caso contrario, solo se toman en cuenta palabra de la lista\n",
    "de stopwords\n",
    "\"\"\"\n",
    "def clean_texts(text_list, stopwords, stopwords_option=False):\n",
    "    tokenizer = RegexpTokenizer(r'(?u)\\b\\w\\w+\\b')\n",
    "    tokens = []\n",
    "    for text in text_list:\n",
    "        text = text.lower()\n",
    "        tokens.extend(tokenizer.tokenize(text))\n",
    "    if stopwords_option==False:\n",
    "        clean_tokens = [token for token in tokens if token not in stopwords]\n",
    "        return clean_tokens\n",
    "    else:\n",
    "        clean_tokens = [token for token in tokens if token in stopwords]\n",
    "        return clean_tokens"
   ]
  },
  {
   "cell_type": "code",
   "execution_count": 14,
   "metadata": {},
   "outputs": [],
   "source": [
    "\"\"\"\n",
    "Función que obtiene la lista de los\n",
    "n tokens mas frecuentes\n",
    "\"\"\"\n",
    "def get_n_most_freq_words(tokens, n=10):\n",
    "    frequency = FreqDist(tokens)\n",
    "    freq_words = []\n",
    "    for word, freq in frequency.most_common(n):\n",
    "        freq_words.append(word)\n",
    "    return freq_words"
   ]
  },
  {
   "cell_type": "code",
   "execution_count": 15,
   "metadata": {},
   "outputs": [
    {
     "data": {
      "text/plain": [
       "(['gt', 'lt', 'get', 'ok', 'go', 'ur', 'know', 'call', 'good', 'got'],\n",
       " ['call',\n",
       "  'free',\n",
       "  'txt',\n",
       "  'ur',\n",
       "  'mobile',\n",
       "  'text',\n",
       "  'stop',\n",
       "  'claim',\n",
       "  'reply',\n",
       "  'www'])"
      ]
     },
     "execution_count": 15,
     "metadata": {},
     "output_type": "execute_result"
    }
   ],
   "source": [
    "def pregunta_seis(df):\n",
    "    # Filtrado el dataframe #\n",
    "    df_spam = df[(df.target == 1)] \n",
    "    df_no_spam = df[(df.target == 0)]\n",
    "    \n",
    "    # Obtención de tokens #\n",
    "    spam_tokens = clean_texts(df_spam.text, sw)\n",
    "    no_spam_tokens = clean_texts(df_no_spam.text, sw)\n",
    "    \n",
    "    # tokens mas frecuentes #\n",
    "    spam_freq = get_n_most_freq_words(spam_tokens)\n",
    "    no_spam_freq = get_n_most_freq_words(no_spam_tokens)\n",
    "    \n",
    "    return (no_spam_freq, spam_freq) \n",
    "pregunta_seis(spam_data)"
   ]
  },
  {
   "cell_type": "markdown",
   "metadata": {},
   "source": [
    "### Pregunta 7\n",
    "\n",
    "¿Cuales son las 10 palabras mas frecuentes (solo teniendo en cuenta *Stopwords*) en los documentos que no son spam y spam?\n",
    "\n",
    "\n",
    "*Esta función debe devolver una tupla (palabras mas frecuentes, no spam, palabras mas frecuentes, spam).*"
   ]
  },
  {
   "cell_type": "code",
   "execution_count": 16,
   "metadata": {},
   "outputs": [
    {
     "data": {
      "text/plain": [
       "(['you', 'to', 'the', 'and', 'in', 'me', 'my', 'is', 'it', 'that'],\n",
       " ['to', 'you', 'your', 'the', 'for', 'now', 'or', 'is', 'on', 'have'])"
      ]
     },
     "execution_count": 16,
     "metadata": {},
     "output_type": "execute_result"
    }
   ],
   "source": [
    "def pregunta_siete(df):\n",
    "    # Filtrado el dataframe #\n",
    "    df_spam = df[(df.target == 1)] \n",
    "    df_no_spam = df[(df.target == 0)]\n",
    "    \n",
    "    # Obtención de tokens #\n",
    "    spam_tokens = clean_texts(df_spam.text, sw, stopwords_option=True)\n",
    "    no_spam_tokens = clean_texts(df_no_spam.text, sw, stopwords_option=True)\n",
    "    \n",
    "    # tokens mas frecuentes #\n",
    "    spam_freq = get_n_most_freq_words(spam_tokens)\n",
    "    no_spam_freq = get_n_most_freq_words(no_spam_tokens)\n",
    "    \n",
    "    return (no_spam_freq, spam_freq)  \n",
    "\n",
    "pregunta_siete(spam_data)"
   ]
  }
 ],
 "metadata": {
  "kernelspec": {
   "display_name": "Python 3",
   "language": "python",
   "name": "python3"
  },
  "language_info": {
   "codemirror_mode": {
    "name": "ipython",
    "version": 3
   },
   "file_extension": ".py",
   "mimetype": "text/x-python",
   "name": "python",
   "nbconvert_exporter": "python",
   "pygments_lexer": "ipython3",
   "version": "3.6.9"
  }
 },
 "nbformat": 4,
 "nbformat_minor": 2
}
