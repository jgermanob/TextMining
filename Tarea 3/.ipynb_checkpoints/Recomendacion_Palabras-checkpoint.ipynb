{
 "cells": [
  {
   "cell_type": "markdown",
   "metadata": {},
   "source": [
    "# Minería de textos\n",
    "\n",
    "### Recomendación de Ortografía\n",
    "Crear tres recomendadores de ortografía diferentes, que cada uno tome una lista de palabras mal escritas y recomiende una palabra correctamente deletreada para cada palabra de la lista. Para cada palabra mal escrita, el recomendador debe encontrar la palabra en palabras_correctas que tiene la distancia más corta, y comienza con la misma letra que la palabra mal escrita, y devolver esa palabra como una recomendación. Cada uno de los tres recomendadores diferentes utilizará una medida de distancia diferente. Cada uno de los recomendadores debería proporcionar recomendaciones para las tres palabras predeterminadas proporcionadas: ['cormulent', 'incendenece', 'validrate'].\n",
    "\n",
    "Recomendador 1:\n",
    "* El primer recomendador debe proporcionar recomendaciones para las tres palabras predeterminadas proporcionadas anteriormente usando la siguiente métrica de distancia:\n",
    "* Distancia de Jaccard en los trigramas de las dos palabras:\n",
    "* https://en.wikipedia.org/wiki/Jaccard_index\n",
    "* Esta función debe devolver una lista de longitud tres: ['recomendacion_cormulent’, 'recomendacion_incendenece', 'recomendacion_validrate']\n",
    "\n",
    "Recomendado 2:\n",
    "* Para este recomendador, su función debe proporcionar recomendaciones para las tres palabras predeterminadas proporcionadas anteriormente usando la siguiente métrica de distancia:\n",
    "* Distancia de Jaccard en los 4 gramas de las dos palabras:\n",
    "* https://en.wikipedia.org/wiki/Jaccard_index\n",
    "* Esta función debe devolver una lista de longitud tres: ['recomendacion_cormulent', 'recomendacion_incendenece', 'recomendacion_validrate']\n",
    "\n",
    "Recomendador 3:\n",
    "* Para este recomendador, su función debe proporcionar recomendaciones para las tres palabras predeterminadas proporcionadas anteriormente usando la siguiente métrica de distancia:\n",
    "* Distancia de edicion en las dos palabras con transposiciones:\n",
    "* https://en.wikipedia.org/wiki/Damerau%E2%80%93Levenshtein_distance\n",
    "* Esta función debe devolver una lista de longitud tres: ['recomendacion_cormulent', 'recomendacion_incendenece', 'recomendacion_validrate']. \n"
   ]
  },
  {
   "cell_type": "code",
   "execution_count": 1,
   "metadata": {},
   "outputs": [],
   "source": [
    "from nltk.corpus import words\n",
    "from nltk.metrics import edit_distance"
   ]
  },
  {
   "cell_type": "markdown",
   "metadata": {},
   "source": [
    "#### Clase Word_Recommender( )"
   ]
  },
  {
   "cell_type": "code",
   "execution_count": 2,
   "metadata": {},
   "outputs": [],
   "source": [
    "class Word_Recommender:\n",
    "    \"\"\"\n",
    "    Se carga la lista de palabras correctas al inicializar el objeto\n",
    "    \"\"\"\n",
    "    def __init__(self):\n",
    "        self.correct_words = words.words()\n",
    "    \n",
    "    \"\"\"\n",
    "    Función que devuele los n-gramas de caracteres de una palabra\n",
    "    \"\"\"\n",
    "    def get_char_ngrams(self, word, n):\n",
    "        word_len = len(word)\n",
    "        return [word[i:i+n] for i in range(word_len - n + 1)]\n",
    "    \n",
    "    \"\"\"\n",
    "    Función que devuelve las opciones de palabras correctas que comienzan\n",
    "    con la letra de la palabra mal escrita\n",
    "    \"\"\"\n",
    "    def get_word_options(self, char):\n",
    "        return list(filter(lambda word: char == word[0], self.correct_words))\n",
    "    \n",
    "    \"\"\"\n",
    "    Función para obtener el coeficiente Jaccard\n",
    "    \"\"\"\n",
    "    def jaccard_index(self, list1, list2):\n",
    "        list1 = set(list1)\n",
    "        list2 = set(list2)\n",
    "        intersection = list1.intersection(list2)\n",
    "        union = list1.union(list2)\n",
    "        return len(intersection)/len(union)\n",
    "    \n",
    "    \"\"\"\n",
    "    Función que devuelve una recomendación con base en el coeficiente Jaccard\n",
    "    \"\"\"\n",
    "    def get_jaccard_option(self, word, options, ngram):\n",
    "        char_ngrams = self.get_char_ngrams(word, ngram)\n",
    "        best_score = 0\n",
    "        best_option = None\n",
    "        for option in options:    \n",
    "            ngrams_option = self.get_char_ngrams(option,ngram)\n",
    "            score = self.jaccard_index(char_ngrams,ngrams_option)\n",
    "            if score > best_score:\n",
    "                best_score = score\n",
    "                best_option = option\n",
    "        return best_option\n",
    "\n",
    "    \"\"\"\n",
    "    Función que devuelve una recomendación con base en la distancia de \n",
    "    edición de Levenshtein\n",
    "    \"\"\"\n",
    "    def get_editDistance_option(self, word, options):\n",
    "        best_score = 1000000\n",
    "        best_option = None\n",
    "        for option in options:\n",
    "            score = edit_distance(word, option,transpositions=True)\n",
    "            if score < best_score:\n",
    "                best_score = score\n",
    "                best_option = option\n",
    "        return best_option\n",
    "    \n",
    "    \"\"\"\n",
    "    Función que devuelve la recomendación para la palabra o\n",
    "    lista de palabras con base en la métrica de distancia ingresada y \n",
    "    los n-gramas a considerar\n",
    "    \"\"\"\n",
    "    def get_recommendation(self, word, metric, ngram=1):\n",
    "        metric = metric.lower()\n",
    "        if isinstance(word, list) == False:\n",
    "            options = self.get_word_options(word[0])\n",
    "            best_option = None\n",
    "            if metric == 'jaccard':\n",
    "                best_option = self.get_jaccard_option(word,options,ngram)\n",
    "            elif metric == 'levenshtein':\n",
    "                best_option = self.get_editDistance_option(word, options)\n",
    "        else:\n",
    "            best_options =[] \n",
    "            if metric == 'jaccard':\n",
    "                for w in word:\n",
    "                    options = self.get_word_options(w[0])\n",
    "                    best_options.append(self.get_jaccard_option(w,options,ngram))\n",
    "            elif metric == 'levenshtein':\n",
    "                for w in word:\n",
    "                    options = self.get_word_options(w[0])\n",
    "                    best_options.append(self.get_editDistance_option(w,options))\n",
    "            return best_options\n",
    "\n",
    "        return best_option"
   ]
  },
  {
   "cell_type": "markdown",
   "metadata": {},
   "source": [
    "#### Lista de palabras"
   ]
  },
  {
   "cell_type": "code",
   "execution_count": 3,
   "metadata": {},
   "outputs": [],
   "source": [
    "words_list = ['cormulent', 'incendenece', 'validrate']"
   ]
  },
  {
   "cell_type": "markdown",
   "metadata": {},
   "source": [
    "#### Creación de objeto Word_Recommender( )"
   ]
  },
  {
   "cell_type": "code",
   "execution_count": 4,
   "metadata": {},
   "outputs": [],
   "source": [
    "recommender = Word_Recommender()"
   ]
  },
  {
   "cell_type": "markdown",
   "metadata": {},
   "source": [
    "##### Coeficiente Jaccard y 3-gramas"
   ]
  },
  {
   "cell_type": "code",
   "execution_count": 5,
   "metadata": {},
   "outputs": [],
   "source": [
    "recommendations = recommender.get_recommendation(words_list, 'jaccard',3)"
   ]
  },
  {
   "cell_type": "code",
   "execution_count": 6,
   "metadata": {},
   "outputs": [
    {
     "name": "stdout",
     "output_type": "stream",
     "text": [
      "['corpulent', 'indecence', 'validate']\n"
     ]
    }
   ],
   "source": [
    "print(recommendations)"
   ]
  },
  {
   "cell_type": "markdown",
   "metadata": {},
   "source": [
    "##### Coeficiente Jaccard y 4-gramas"
   ]
  },
  {
   "cell_type": "code",
   "execution_count": 7,
   "metadata": {},
   "outputs": [],
   "source": [
    "recommendations = recommender.get_recommendation(words_list, 'jaccard',4)"
   ]
  },
  {
   "cell_type": "code",
   "execution_count": 8,
   "metadata": {},
   "outputs": [
    {
     "name": "stdout",
     "output_type": "stream",
     "text": [
      "['cormus', 'incendiary', 'valid']\n"
     ]
    }
   ],
   "source": [
    "print(recommendations)"
   ]
  },
  {
   "cell_type": "markdown",
   "metadata": {},
   "source": [
    "##### Distancia de Levenshtein"
   ]
  },
  {
   "cell_type": "code",
   "execution_count": 9,
   "metadata": {},
   "outputs": [],
   "source": [
    "recommendations = recommender.get_recommendation(words_list, 'levenshtein')"
   ]
  },
  {
   "cell_type": "code",
   "execution_count": 10,
   "metadata": {},
   "outputs": [
    {
     "name": "stdout",
     "output_type": "stream",
     "text": [
      "['corpulent', 'intendence', 'validate']\n"
     ]
    }
   ],
   "source": [
    "print(recommendations)"
   ]
  }
 ],
 "metadata": {
  "kernelspec": {
   "display_name": "Python 3",
   "language": "python",
   "name": "python3"
  },
  "language_info": {
   "codemirror_mode": {
    "name": "ipython",
    "version": 3
   },
   "file_extension": ".py",
   "mimetype": "text/x-python",
   "name": "python",
   "nbconvert_exporter": "python",
   "pygments_lexer": "ipython3",
   "version": "3.6.9"
  }
 },
 "nbformat": 4,
 "nbformat_minor": 4
}
